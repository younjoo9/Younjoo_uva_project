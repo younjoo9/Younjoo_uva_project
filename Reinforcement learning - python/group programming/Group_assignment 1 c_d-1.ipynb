{
 "cells": [
  {
   "cell_type": "markdown",
   "metadata": {},
   "source": [
    "# Reinforcement Learning Group Assignment 1 (c&d)\n",
    "## Enzo Keuning (12878502), Hsi Yun Chien (12534919), Younjoo Mo (12475440)"
   ]
  },
  {
   "cell_type": "code",
   "execution_count": 24,
   "metadata": {},
   "outputs": [],
   "source": [
    "import numpy as np"
   ]
  },
  {
   "cell_type": "markdown",
   "metadata": {},
   "source": [
    "### Question (c):"
   ]
  },
  {
   "cell_type": "code",
   "execution_count": 25,
   "metadata": {},
   "outputs": [],
   "source": [
    "action = range(6)\n",
    "states = range(11)\n",
    "negative_infinity = float('-inf')\n",
    "\n",
    "c_new = 80\n",
    "c_an = 70\n",
    "c_sh = 60\n",
    "c_minor = 30\n",
    "c_major = 50\n",
    "r = (100, 90, 80, 70, 60, 50, 40, 30, 20, 10)\n",
    "rewards = np.array([[negative_infinity, negative_infinity, negative_infinity, negative_infinity, negative_infinity, r[0]],\n",
    "                   [r[0] - c_new, negative_infinity, negative_infinity, negative_infinity, negative_infinity, r[1]],\n",
    "                   [r[0] - c_new, r[1] - c_an, negative_infinity, negative_infinity, negative_infinity, r[2]],\n",
    "                   [r[0] - c_new, r[1] - c_an, r[2] - c_sh, negative_infinity, negative_infinity, r[3]],\n",
    "                   [r[0] - c_new, r[1] - c_an, r[2] - c_sh, negative_infinity, negative_infinity, r[4]],\n",
    "                   [r[0] - c_new, r[1] - c_an, r[2] - c_sh, negative_infinity, negative_infinity, r[5]],\n",
    "                   [r[0] - c_new, r[1] - c_an, r[2] - c_sh, -c_minor, negative_infinity, r[6]],\n",
    "                   [r[0] - c_new, r[1] - c_an, r[2] - c_sh, -c_minor, negative_infinity, r[7]],\n",
    "                   [r[0] - c_new, r[1] - c_an, r[2] - c_sh, -c_minor, -c_major, r[8]],\n",
    "                   [r[0] - c_new, r[1] - c_an, r[2] - c_sh, -c_minor, -c_major, r[9]],\n",
    "                   [r[0] - c_new, r[1] - c_an, r[2] - c_sh, negative_infinity, negative_infinity, negative_infinity]])\n",
    "\n",
    "p = np.array([[[0, 0, 0, 0, 0, 0, 0, 0, 0, 0, 0],\n",
    "              [0, 0, 0, 0, 0, 0, 0, 0, 0, 0, 0],\n",
    "              [0, 0, 0, 0, 0, 0, 0, 0, 0, 0, 0],\n",
    "              [0, 0, 0, 0, 0, 0, 0, 0, 0, 0, 0],\n",
    "              [0, 0, 0, 0, 0, 0, 0, 0, 0, 0, 0],\n",
    "               [0.8, 0.1, 0.05, 0.05, 0, 0, 0, 0, 0, 0, 0]],\n",
    "              \n",
    "              [[0.8, 0.1, 0.05, 0.05, 0, 0, 0, 0, 0, 0, 0],\n",
    "              [0, 0, 0, 0, 0, 0, 0, 0, 0, 0, 0],\n",
    "              [0, 0, 0, 0, 0, 0, 0, 0, 0, 0, 0],\n",
    "              [0, 0, 0, 0, 0, 0, 0, 0, 0, 0, 0],\n",
    "              [0, 0, 0, 0, 0, 0, 0, 0, 0, 0, 0],\n",
    "              [0, 0.8, 0.1, 0.05, 0.05, 0, 0, 0, 0, 0, 0]],\n",
    "              \n",
    "              [[0.8, 0.1, 0.05, 0.05, 0, 0, 0, 0, 0, 0, 0],\n",
    "              [0, 0.8, 0.1, 0.05, 0.05, 0, 0, 0, 0, 0, 0],\n",
    "              [0, 0, 0, 0, 0, 0, 0, 0, 0, 0, 0],\n",
    "              [0, 0, 0, 0, 0, 0, 0, 0, 0, 0, 0],\n",
    "              [0, 0, 0, 0, 0, 0, 0, 0, 0, 0, 0],\n",
    "              [0, 0, 0.8, 0.1, 0.05, 0.05, 0, 0, 0, 0, 0]],\n",
    "              \n",
    "              [[0.8, 0.1, 0.05, 0.05, 0, 0, 0, 0, 0, 0, 0],\n",
    "              [0, 0.8, 0.1, 0.05, 0.05, 0, 0, 0, 0, 0, 0],\n",
    "              [0, 0, 0.8, 0.1, 0.05, 0.05, 0, 0, 0, 0, 0],\n",
    "              [0, 0, 0, 0, 0, 0, 0, 0, 0, 0, 0],\n",
    "              [0, 0, 0, 0, 0, 0, 0, 0, 0, 0, 0],\n",
    "              [0, 0, 0, 0.8, 0.1, 0.05, 0.05, 0, 0, 0, 0]],\n",
    "              \n",
    "              [[0.8, 0.1, 0.05, 0.05, 0, 0, 0, 0, 0, 0, 0],\n",
    "              [0, 0.8, 0.1, 0.05, 0.05, 0, 0, 0, 0, 0, 0],\n",
    "              [0, 0, 0.8, 0.1, 0.05, 0.05, 0, 0, 0, 0, 0],\n",
    "              [0, 0, 0, 0, 0, 0, 0, 0, 0, 0, 0],\n",
    "              [0, 0, 0, 0, 0, 0, 0, 0, 0, 0, 0],\n",
    "              [0, 0, 0, 0, 0.8, 0.1, 0.05, 0.05, 0, 0, 0]],\n",
    "              \n",
    "              [[0.8, 0.1, 0.05, 0.05, 0, 0, 0, 0, 0, 0, 0],\n",
    "              [0, 0.8, 0.1, 0.05, 0.05, 0, 0, 0, 0, 0, 0],\n",
    "              [0, 0, 0.8, 0.1, 0.05, 0.05, 0, 0, 0, 0, 0],\n",
    "              [0, 0, 0, 0, 0, 0, 0, 0, 0, 0, 0],\n",
    "              [0, 0, 0, 0, 0, 0, 0, 0, 0, 0, 0],\n",
    "              [0, 0, 0, 0, 0, 0.8, 0.1, 0.05, 0.05, 0, 0]],\n",
    "              \n",
    "              [[0.8, 0.1, 0.05, 0.05, 0, 0, 0, 0, 0, 0, 0],\n",
    "              [0, 0.8, 0.1, 0.05, 0.05, 0, 0, 0, 0, 0, 0],\n",
    "              [0, 0, 0.8, 0.1, 0.05, 0.05, 0, 0, 0, 0, 0],\n",
    "              [0, 0, 0, 1, 0, 0, 0, 0, 0, 0, 0],\n",
    "              [0, 0, 0, 0, 0, 0, 0, 0, 0, 0, 0],\n",
    "              [0, 0, 0, 0, 0, 0, 0.8, 0.1, 0.05, 0.05, 0]],\n",
    "              \n",
    "              [[0.8, 0.1, 0.05, 0.05, 0, 0, 0, 0, 0, 0, 0],\n",
    "              [0, 0.8, 0.1, 0.05, 0.05, 0, 0, 0, 0, 0, 0],\n",
    "              [0, 0, 0.8, 0.1, 0.05, 0.05, 0, 0, 0, 0, 0],\n",
    "              [0, 0, 0, 0, 1, 0, 0, 0, 0, 0, 0],\n",
    "              [0, 0, 0, 0, 0, 0, 0, 0, 0, 0, 0],\n",
    "              [0, 0, 0, 0, 0, 0, 0, 0.8, 0.1, 0.05, 0.05]],\n",
    "              \n",
    "              [[0.8, 0.1, 0.05, 0.05, 0, 0, 0, 0, 0, 0, 0],\n",
    "              [0, 0.8, 0.1, 0.05, 0.05, 0, 0, 0, 0, 0, 0],\n",
    "              [0, 0, 0.8, 0.1, 0.05, 0.05, 0, 0, 0, 0, 0],\n",
    "              [0, 0, 0, 0, 0, 1, 0, 0, 0, 0, 0],\n",
    "              [0, 0, 0, 1, 0, 0, 0, 0, 0, 0, 0],\n",
    "              [0, 0, 0, 0, 0, 0, 0, 0, 0.8, 0.15, 0.05]],\n",
    "              \n",
    "              [[0.8, 0.1, 0.05, 0.05, 0, 0, 0, 0, 0, 0, 0],\n",
    "              [0, 0.8, 0.1, 0.05, 0.05, 0, 0, 0, 0, 0, 0],\n",
    "              [0, 0, 0.8, 0.1, 0.05, 0.05, 0, 0, 0, 0, 0],\n",
    "              [0, 0, 0, 0, 0, 0, 1, 0, 0, 0, 0],\n",
    "              [0, 0, 0, 0, 1, 0, 0, 0, 0, 0, 0],\n",
    "              [0, 0, 0, 0, 0, 0, 0, 0, 0, 0.8, 0.2]],\n",
    "              \n",
    "              [[0.8, 0.1, 0.05, 0.05, 0, 0, 0, 0, 0, 0, 0],\n",
    "              [0, 0.8, 0.1, 0.05, 0.05, 0, 0, 0, 0, 0, 0],\n",
    "              [0, 0, 0.8, 0.1, 0.05, 0.05, 0, 0, 0, 0, 0],\n",
    "              [0, 0, 0, 0, 0, 0, 0, 0, 0, 0, 0],\n",
    "              [0, 0, 0, 0, 0, 0, 0, 0, 0, 0, 0],\n",
    "              [0, 0, 0, 0, 0, 0, 0, 0, 0, 0, 0]]\n",
    "              ])\n",
    "\n",
    "\n",
    "v       = np.zeros(11)\n",
    "pi      = np.zeros(11, dtype=np.int)\n",
    "gamma = 0.9"
   ]
  },
  {
   "cell_type": "code",
   "execution_count": 26,
   "metadata": {},
   "outputs": [
    {
     "name": "stdout",
     "output_type": "stream",
     "text": [
      "Optimal policy    :  [5 5 0 0 0 0 0 0 0 0 0]\n",
      "Estimated v-values:  [886.16208715 839.6756035  806.16209485 806.16209524 806.16209562\n",
      " 806.16209562 806.16209562 806.16209562 806.16209562 806.16209562\n",
      " 806.16209562]\n"
     ]
    }
   ],
   "source": [
    "for s in states:\n",
    "    v[s]  = max(rewards[s,])\n",
    "    pi[s] = np.argmax(rewards[s,])\n",
    "    \n",
    "vmax = 999\n",
    "while vmax > 1.0e-5:\n",
    "    vmax = 0\n",
    "    for s in states:\n",
    "        vold  = v[s]\n",
    "        q     = rewards[s] + gamma*np.dot(p[s],v)\n",
    "        v[s]  = max(q)\n",
    "        vmax  = max(vmax, abs(vold-v[s]))\n",
    "        pi[s] = np.argmax(q)        \n",
    "        #print(v, pi)\n",
    "    #print(vmax)\n",
    "\n",
    "print(\"Optimal policy    : \", pi)\n",
    "print(\"Estimated v-values: \", v)"
   ]
  },
  {
   "cell_type": "markdown",
   "metadata": {},
   "source": [
    "### Question (d):\n",
    "i) Explore the influence of different reward schemes on the optimal policy <br>\n",
    "ii) Explore the influence of different replacement cost schemes on the optimal policy"
   ]
  },
  {
   "cell_type": "code",
   "execution_count": 27,
   "metadata": {},
   "outputs": [
    {
     "name": "stdout",
     "output_type": "stream",
     "text": [
      "Optimal policy    :  [5 5 5 5 0 0 0 0 0 0 0]\n",
      "Estimated v-values:  [414.7794195  384.85188895 359.81970987 340.21531754 334.77942828\n",
      " 334.77942828 334.77942828 334.77942828 334.77942828 334.77942828\n",
      " 334.77942828]\n"
     ]
    }
   ],
   "source": [
    "#(i), divide rewards by 2\n",
    "r = (50, 45, 40, 35, 30, 25, 20, 15, 10, 5)\n",
    "rewards = np.array([[negative_infinity, negative_infinity, negative_infinity, negative_infinity, negative_infinity, r[0]],\n",
    "                   [r[0] - c_new, negative_infinity, negative_infinity, negative_infinity, negative_infinity, r[1]],\n",
    "                   [r[0] - c_new, r[1] - c_an, negative_infinity, negative_infinity, negative_infinity, r[2]],\n",
    "                   [r[0] - c_new, r[1] - c_an, r[2] - c_sh, negative_infinity, negative_infinity, r[3]],\n",
    "                   [r[0] - c_new, r[1] - c_an, r[2] - c_sh, negative_infinity, negative_infinity, r[4]],\n",
    "                   [r[0] - c_new, r[1] - c_an, r[2] - c_sh, negative_infinity, negative_infinity, r[5]],\n",
    "                   [r[0] - c_new, r[1] - c_an, r[2] - c_sh, -c_minor, negative_infinity, r[6]],\n",
    "                   [r[0] - c_new, r[1] - c_an, r[2] - c_sh, -c_minor, negative_infinity, r[7]],\n",
    "                   [r[0] - c_new, r[1] - c_an, r[2] - c_sh, -c_minor, -c_major, r[8]],\n",
    "                   [r[0] - c_new, r[1] - c_an, r[2] - c_sh, -c_minor, -c_major, r[9]],\n",
    "                   [r[0] - c_new, r[1] - c_an, r[2] - c_sh, negative_infinity, negative_infinity, negative_infinity]])\n",
    "\n",
    "\n",
    "\n",
    "for s in states:\n",
    "    v[s]  = max(rewards[s,])\n",
    "    pi[s] = np.argmax(rewards[s,])\n",
    "    \n",
    "vmax = 999\n",
    "while vmax > 1.0e-5:\n",
    "    vmax = 0\n",
    "    for s in states:\n",
    "        vold  = v[s]\n",
    "        q     = rewards[s] + gamma*np.dot(p[s],v)\n",
    "        v[s]  = max(q)\n",
    "        vmax  = max(vmax, abs(vold-v[s]))\n",
    "        pi[s] = np.argmax(q)        \n",
    "        #print(v, pi)\n",
    "    #print(vmax)\n",
    "\n",
    "print(\"Optimal policy    : \", pi)\n",
    "print(\"Estimated v-values: \", v)"
   ]
  },
  {
   "cell_type": "markdown",
   "metadata": {},
   "source": [
    "When dividing all rewards in every condition by 2, we see that the optimal policy says that when a machine is in condition 0 up until 3 we should keep using it, and otherwise replace it with a new one. This is different compared to the initial rewards, where the optimal policy showed that we should only keep using a machine in condition 0 and 1."
   ]
  },
  {
   "cell_type": "code",
   "execution_count": 28,
   "metadata": {},
   "outputs": [
    {
     "name": "stdout",
     "output_type": "stream",
     "text": [
      "Optimal policy    :  [5 0 0 0 0 0 0 0 0 0 0]\n",
      "Estimated v-values:  [3855.99992783 3775.99993483 3775.99993562 3775.99993601 3775.9999364\n",
      " 3775.9999364  3775.9999364  3775.9999364  3775.9999364  3775.9999364\n",
      " 3775.9999364 ]\n"
     ]
    }
   ],
   "source": [
    "#(i), multiply rewards by 4\n",
    "r = np.arange(400,0,-40)\n",
    "rewards = np.array([[negative_infinity, negative_infinity, negative_infinity, negative_infinity, negative_infinity, r[0]],\n",
    "                   [r[0] - c_new, negative_infinity, negative_infinity, negative_infinity, negative_infinity, r[1]],\n",
    "                   [r[0] - c_new, r[1] - c_an, negative_infinity, negative_infinity, negative_infinity, r[2]],\n",
    "                   [r[0] - c_new, r[1] - c_an, r[2] - c_sh, negative_infinity, negative_infinity, r[3]],\n",
    "                   [r[0] - c_new, r[1] - c_an, r[2] - c_sh, negative_infinity, negative_infinity, r[4]],\n",
    "                   [r[0] - c_new, r[1] - c_an, r[2] - c_sh, negative_infinity, negative_infinity, r[5]],\n",
    "                   [r[0] - c_new, r[1] - c_an, r[2] - c_sh, -c_minor, negative_infinity, r[6]],\n",
    "                   [r[0] - c_new, r[1] - c_an, r[2] - c_sh, -c_minor, negative_infinity, r[7]],\n",
    "                   [r[0] - c_new, r[1] - c_an, r[2] - c_sh, -c_minor, -c_major, r[8]],\n",
    "                   [r[0] - c_new, r[1] - c_an, r[2] - c_sh, -c_minor, -c_major, r[9]],\n",
    "                   [r[0] - c_new, r[1] - c_an, r[2] - c_sh, negative_infinity, negative_infinity, negative_infinity]])\n",
    "\n",
    "\n",
    "\n",
    "for s in states:\n",
    "    v[s]  = max(rewards[s,])\n",
    "    pi[s] = np.argmax(rewards[s,])\n",
    "    \n",
    "vmax = 999\n",
    "while vmax > 1.0e-5:\n",
    "    vmax = 0\n",
    "    for s in states:\n",
    "        vold  = v[s]\n",
    "        q     = rewards[s] + gamma*np.dot(p[s],v)\n",
    "        v[s]  = max(q)\n",
    "        vmax  = max(vmax, abs(vold-v[s]))\n",
    "        pi[s] = np.argmax(q)        \n",
    "        #print(v, pi)\n",
    "    #print(vmax)\n",
    "\n",
    "print(\"Optimal policy    : \", pi)\n",
    "print(\"Estimated v-values: \", v)"
   ]
  },
  {
   "cell_type": "markdown",
   "metadata": {},
   "source": [
    "When multiplying all rewards by 4, we see that the optimal policy suggests to only keep using a machine of condition 0 and replace machines with another condition. Hence, when multiplying all rewards by a significantly high factor we see that we will start replacing the machine in a higher condition, whereas when dividing all rewards by a significantly high factor we see that we will still keep using a machine in a worse condition according to the optimal policy.   "
   ]
  },
  {
   "cell_type": "code",
   "execution_count": 29,
   "metadata": {},
   "outputs": [
    {
     "name": "stdout",
     "output_type": "stream",
     "text": [
      "Optimal policy    :  [5 5 5 5 5 5 5 5 5 5 2]\n",
      "Estimated v-values:  [970.84675537 961.48376676 952.30390051 943.33079797 934.62725699\n",
      " 926.38005503 918.42392076 910.94131272 905.24248598 898.62391313\n",
      " 892.30390922]\n"
     ]
    }
   ],
   "source": [
    "#(i), slowly decreasing rewards (nearly constant)\n",
    "r = np.arange(100,89,-1)\n",
    "rewards = np.array([[negative_infinity, negative_infinity, negative_infinity, negative_infinity, negative_infinity, r[0]],\n",
    "                   [r[0] - c_new, negative_infinity, negative_infinity, negative_infinity, negative_infinity, r[1]],\n",
    "                   [r[0] - c_new, r[1] - c_an, negative_infinity, negative_infinity, negative_infinity, r[2]],\n",
    "                   [r[0] - c_new, r[1] - c_an, r[2] - c_sh, negative_infinity, negative_infinity, r[3]],\n",
    "                   [r[0] - c_new, r[1] - c_an, r[2] - c_sh, negative_infinity, negative_infinity, r[4]],\n",
    "                   [r[0] - c_new, r[1] - c_an, r[2] - c_sh, negative_infinity, negative_infinity, r[5]],\n",
    "                   [r[0] - c_new, r[1] - c_an, r[2] - c_sh, -c_minor, negative_infinity, r[6]],\n",
    "                   [r[0] - c_new, r[1] - c_an, r[2] - c_sh, -c_minor, negative_infinity, r[7]],\n",
    "                   [r[0] - c_new, r[1] - c_an, r[2] - c_sh, -c_minor, -c_major, r[8]],\n",
    "                   [r[0] - c_new, r[1] - c_an, r[2] - c_sh, -c_minor, -c_major, r[9]],\n",
    "                   [r[0] - c_new, r[1] - c_an, r[2] - c_sh, negative_infinity, negative_infinity, negative_infinity]])\n",
    "\n",
    "\n",
    "\n",
    "for s in states:\n",
    "    v[s]  = max(rewards[s,])\n",
    "    pi[s] = np.argmax(rewards[s,])\n",
    "    \n",
    "vmax = 999\n",
    "while vmax > 1.0e-5:\n",
    "    vmax = 0\n",
    "    for s in states:\n",
    "        vold  = v[s]\n",
    "        q     = rewards[s] + gamma*np.dot(p[s],v)\n",
    "        v[s]  = max(q)\n",
    "        vmax  = max(vmax, abs(vold-v[s]))\n",
    "        pi[s] = np.argmax(q)        \n",
    "        #print(v, pi)\n",
    "    #print(vmax)\n",
    "\n",
    "print(\"Optimal policy    : \", pi)\n",
    "print(\"Estimated v-values: \", v)"
   ]
  },
  {
   "cell_type": "markdown",
   "metadata": {},
   "source": [
    "When we have a reward scheme with (nearly) constant rewards, in this case slightly decreasing from 100 in state 0 to 90 in state 9. We see that the optimal policy suggests to keep using a machine in all conditions, expect in condition 10 in which it should be replaced by a second-hand one. "
   ]
  },
  {
   "cell_type": "code",
   "execution_count": 30,
   "metadata": {},
   "outputs": [
    {
     "name": "stdout",
     "output_type": "stream",
     "text": [
      "Optimal policy    :  [5 5 5 5 5 1 1 1 1 1 1]\n",
      "Estimated v-values:  [972.94472255 965.89404564 954.84248571 945.02565159 933.07472274\n",
      " 895.89405342 895.89405342 895.89405342 895.89405342 895.89405342\n",
      " 895.89405342]\n"
     ]
    }
   ],
   "source": [
    "#(i), first i=9,..,0 rewards equal to 100, last j=9-i rewards equal to 0\n",
    "r = (100,100,100,100,100,0,0,0,0,0)\n",
    "rewards = np.array([[negative_infinity, negative_infinity, negative_infinity, negative_infinity, negative_infinity, r[0]],\n",
    "                   [r[0] - c_new, negative_infinity, negative_infinity, negative_infinity, negative_infinity, r[1]],\n",
    "                   [r[0] - c_new, r[1] - c_an, negative_infinity, negative_infinity, negative_infinity, r[2]],\n",
    "                   [r[0] - c_new, r[1] - c_an, r[2] - c_sh, negative_infinity, negative_infinity, r[3]],\n",
    "                   [r[0] - c_new, r[1] - c_an, r[2] - c_sh, negative_infinity, negative_infinity, r[4]],\n",
    "                   [r[0] - c_new, r[1] - c_an, r[2] - c_sh, negative_infinity, negative_infinity, r[5]],\n",
    "                   [r[0] - c_new, r[1] - c_an, r[2] - c_sh, -c_minor, negative_infinity, r[6]],\n",
    "                   [r[0] - c_new, r[1] - c_an, r[2] - c_sh, -c_minor, negative_infinity, r[7]],\n",
    "                   [r[0] - c_new, r[1] - c_an, r[2] - c_sh, -c_minor, -c_major, r[8]],\n",
    "                   [r[0] - c_new, r[1] - c_an, r[2] - c_sh, -c_minor, -c_major, r[9]],\n",
    "                   [r[0] - c_new, r[1] - c_an, r[2] - c_sh, negative_infinity, negative_infinity, negative_infinity]])\n",
    "\n",
    "\n",
    "\n",
    "for s in states:\n",
    "    v[s]  = max(rewards[s,])\n",
    "    pi[s] = np.argmax(rewards[s,])\n",
    "    \n",
    "vmax = 999\n",
    "while vmax > 1.0e-5:\n",
    "    vmax = 0\n",
    "    for s in states:\n",
    "        vold  = v[s]\n",
    "        q     = rewards[s] + gamma*np.dot(p[s],v)\n",
    "        v[s]  = max(q)\n",
    "        vmax  = max(vmax, abs(vold-v[s]))\n",
    "        pi[s] = np.argmax(q)        \n",
    "        #print(v, pi)\n",
    "    #print(vmax)\n",
    "\n",
    "print(\"Optimal policy    : \", pi)\n",
    "print(\"Estimated v-values: \", v)"
   ]
  },
  {
   "cell_type": "markdown",
   "metadata": {},
   "source": [
    "ii)"
   ]
  },
  {
   "cell_type": "code",
   "execution_count": 31,
   "metadata": {},
   "outputs": [
    {
     "name": "stdout",
     "output_type": "stream",
     "text": [
      "Optimal policy    :  [5 5 5 5 0 0 0 0 0 0 0]\n",
      "Estimated v-values:  [829.55891976 769.7038565  719.63949664 680.43071032 669.55892862\n",
      " 669.55892862 669.55892862 669.55892862 669.55892862 669.55892862\n",
      " 669.55892862]\n"
     ]
    }
   ],
   "source": [
    "#(ii), double all replacement costs \n",
    "c_new = 160\n",
    "c_an = 140\n",
    "c_sh = 120\n",
    "c_minor = 30\n",
    "c_major = 50\n",
    "r = (100, 90, 80, 70, 60, 50, 40, 30, 20, 10) #original rewards\n",
    "rewards = np.array([[negative_infinity, negative_infinity, negative_infinity, negative_infinity, negative_infinity, r[0]],\n",
    "                   [r[0] - c_new, negative_infinity, negative_infinity, negative_infinity, negative_infinity, r[1]],\n",
    "                   [r[0] - c_new, r[1] - c_an, negative_infinity, negative_infinity, negative_infinity, r[2]],\n",
    "                   [r[0] - c_new, r[1] - c_an, r[2] - c_sh, negative_infinity, negative_infinity, r[3]],\n",
    "                   [r[0] - c_new, r[1] - c_an, r[2] - c_sh, negative_infinity, negative_infinity, r[4]],\n",
    "                   [r[0] - c_new, r[1] - c_an, r[2] - c_sh, negative_infinity, negative_infinity, r[5]],\n",
    "                   [r[0] - c_new, r[1] - c_an, r[2] - c_sh, -c_minor, negative_infinity, r[6]],\n",
    "                   [r[0] - c_new, r[1] - c_an, r[2] - c_sh, -c_minor, negative_infinity, r[7]],\n",
    "                   [r[0] - c_new, r[1] - c_an, r[2] - c_sh, -c_minor, -c_major, r[8]],\n",
    "                   [r[0] - c_new, r[1] - c_an, r[2] - c_sh, -c_minor, -c_major, r[9]],\n",
    "                   [r[0] - c_new, r[1] - c_an, r[2] - c_sh, negative_infinity, negative_infinity, negative_infinity]])\n",
    "\n",
    "for s in states:\n",
    "    v[s]  = max(rewards[s,])\n",
    "    pi[s] = np.argmax(rewards[s,])\n",
    "    \n",
    "vmax = 999\n",
    "while vmax > 1.0e-5:\n",
    "    vmax = 0\n",
    "    for s in states:\n",
    "        vold  = v[s]\n",
    "        q     = rewards[s] + gamma*np.dot(p[s],v)\n",
    "        v[s]  = max(q)\n",
    "        vmax  = max(vmax, abs(vold-v[s]))\n",
    "        pi[s] = np.argmax(q)        \n",
    "        #print(v, pi)\n",
    "    #print(vmax)\n",
    "\n",
    "print(\"Optimal policy    : \", pi)\n",
    "print(\"Estimated v-values: \", v)\n"
   ]
  },
  {
   "cell_type": "code",
   "execution_count": 32,
   "metadata": {},
   "outputs": [
    {
     "name": "stdout",
     "output_type": "stream",
     "text": [
      "Optimal policy    :  [5 5 5 5 5 5 3 3 4 4 0]\n",
      "Estimated v-values:  [774.10824357 697.90038639 628.57852125 570.07219198 515.26224516\n",
      " 477.97101725 483.06497278 433.73602065 463.06497278 413.73602065\n",
      " 374.10825224]\n"
     ]
    }
   ],
   "source": [
    "#(ii), multiply all replacement costs by 5 \n",
    "c_new = 400\n",
    "c_an = 350\n",
    "c_sh = 300\n",
    "c_minor = 30\n",
    "c_major = 50\n",
    "r = (100, 90, 80, 70, 60, 50, 40, 30, 20, 10) #original rewards\n",
    "rewards = np.array([[negative_infinity, negative_infinity, negative_infinity, negative_infinity, negative_infinity, r[0]],\n",
    "                   [r[0] - c_new, negative_infinity, negative_infinity, negative_infinity, negative_infinity, r[1]],\n",
    "                   [r[0] - c_new, r[1] - c_an, negative_infinity, negative_infinity, negative_infinity, r[2]],\n",
    "                   [r[0] - c_new, r[1] - c_an, r[2] - c_sh, negative_infinity, negative_infinity, r[3]],\n",
    "                   [r[0] - c_new, r[1] - c_an, r[2] - c_sh, negative_infinity, negative_infinity, r[4]],\n",
    "                   [r[0] - c_new, r[1] - c_an, r[2] - c_sh, negative_infinity, negative_infinity, r[5]],\n",
    "                   [r[0] - c_new, r[1] - c_an, r[2] - c_sh, -c_minor, negative_infinity, r[6]],\n",
    "                   [r[0] - c_new, r[1] - c_an, r[2] - c_sh, -c_minor, negative_infinity, r[7]],\n",
    "                   [r[0] - c_new, r[1] - c_an, r[2] - c_sh, -c_minor, -c_major, r[8]],\n",
    "                   [r[0] - c_new, r[1] - c_an, r[2] - c_sh, -c_minor, -c_major, r[9]],\n",
    "                   [r[0] - c_new, r[1] - c_an, r[2] - c_sh, negative_infinity, negative_infinity, negative_infinity]])\n",
    "\n",
    "for s in states:\n",
    "    v[s]  = max(rewards[s,])\n",
    "    pi[s] = np.argmax(rewards[s,])\n",
    "    \n",
    "vmax = 999\n",
    "while vmax > 1.0e-5:\n",
    "    vmax = 0\n",
    "    for s in states:\n",
    "        vold  = v[s]\n",
    "        q     = rewards[s] + gamma*np.dot(p[s],v)\n",
    "        v[s]  = max(q)\n",
    "        vmax  = max(vmax, abs(vold-v[s]))\n",
    "        pi[s] = np.argmax(q)        \n",
    "        #print(v, pi)\n",
    "    #print(vmax)\n",
    "\n",
    "print(\"Optimal policy    : \", pi)\n",
    "print(\"Estimated v-values: \", v)\n",
    "\n"
   ]
  },
  {
   "cell_type": "code",
   "execution_count": 33,
   "metadata": {},
   "outputs": [
    {
     "name": "stdout",
     "output_type": "stream",
     "text": [
      "Optimal policy    :  [5 0 0 0 0 0 0 0 0 0 0]\n",
      "Estimated v-values:  [951.99992811 925.33326841 925.3332692  925.33326959 925.33326997\n",
      " 925.33326997 925.33326997 925.33326997 925.33326997 925.33326997\n",
      " 925.33326997]\n"
     ]
    }
   ],
   "source": [
    "#(ii), divide all replacement costs by 3\n",
    "c_new = 80/3\n",
    "c_an = 70/3\n",
    "c_sh = 60/3\n",
    "c_minor = 30\n",
    "c_major = 50\n",
    "r = (100, 90, 80, 70, 60, 50, 40, 30, 20, 10) #original rewards\n",
    "rewards = np.array([[negative_infinity, negative_infinity, negative_infinity, negative_infinity, negative_infinity, r[0]],\n",
    "                   [r[0] - c_new, negative_infinity, negative_infinity, negative_infinity, negative_infinity, r[1]],\n",
    "                   [r[0] - c_new, r[1] - c_an, negative_infinity, negative_infinity, negative_infinity, r[2]],\n",
    "                   [r[0] - c_new, r[1] - c_an, r[2] - c_sh, negative_infinity, negative_infinity, r[3]],\n",
    "                   [r[0] - c_new, r[1] - c_an, r[2] - c_sh, negative_infinity, negative_infinity, r[4]],\n",
    "                   [r[0] - c_new, r[1] - c_an, r[2] - c_sh, negative_infinity, negative_infinity, r[5]],\n",
    "                   [r[0] - c_new, r[1] - c_an, r[2] - c_sh, -c_minor, negative_infinity, r[6]],\n",
    "                   [r[0] - c_new, r[1] - c_an, r[2] - c_sh, -c_minor, negative_infinity, r[7]],\n",
    "                   [r[0] - c_new, r[1] - c_an, r[2] - c_sh, -c_minor, -c_major, r[8]],\n",
    "                   [r[0] - c_new, r[1] - c_an, r[2] - c_sh, -c_minor, -c_major, r[9]],\n",
    "                   [r[0] - c_new, r[1] - c_an, r[2] - c_sh, negative_infinity, negative_infinity, negative_infinity]])\n",
    "\n",
    "for s in states:\n",
    "    v[s]  = max(rewards[s,])\n",
    "    pi[s] = np.argmax(rewards[s,])\n",
    "    \n",
    "vmax = 999\n",
    "while vmax > 1.0e-5:\n",
    "    vmax = 0\n",
    "    for s in states:\n",
    "        vold  = v[s]\n",
    "        q     = rewards[s] + gamma*np.dot(p[s],v)\n",
    "        v[s]  = max(q)\n",
    "        vmax  = max(vmax, abs(vold-v[s]))\n",
    "        pi[s] = np.argmax(q)        \n",
    "        #print(v, pi)\n",
    "    #print(vmax)\n",
    "\n",
    "print(\"Optimal policy    : \", pi)\n",
    "print(\"Estimated v-values: \", v)"
   ]
  },
  {
   "cell_type": "code",
   "execution_count": null,
   "metadata": {},
   "outputs": [],
   "source": []
  }
 ],
 "metadata": {
  "kernelspec": {
   "display_name": "Python 3",
   "language": "python",
   "name": "python3"
  },
  "language_info": {
   "codemirror_mode": {
    "name": "ipython",
    "version": 3
   },
   "file_extension": ".py",
   "mimetype": "text/x-python",
   "name": "python",
   "nbconvert_exporter": "python",
   "pygments_lexer": "ipython3",
   "version": "3.8.5"
  }
 },
 "nbformat": 4,
 "nbformat_minor": 4
}
