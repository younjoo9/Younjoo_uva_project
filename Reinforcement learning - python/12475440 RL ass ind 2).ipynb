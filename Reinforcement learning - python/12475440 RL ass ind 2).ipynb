{
 "cells": [
  {
   "cell_type": "markdown",
   "metadata": {},
   "source": [
    "# RL Assignment 1: MiniPoker\n",
    "\n",
    "**Deadline**:  Fri 18 Feb 2022, 23:59\n",
    "\n",
    "|Nr|**Name**|**Student ID**|**Email**|\n",
    "|--|--------|--------------|---------|\n",
    "|  |   Jamie  |     12475440         |     younjoo737@gmail.com    |\n",
    "\n",
    "\n",
    "**Declaration of Originality**\n",
    "\n",
    "I declare that:\n",
    "\n",
    "1. These solutions are solely my own work.\n",
    "2. I have not made (part of) these solutions available to any other student.\n",
    "3. I shall not engage in any other activities that will dishonestly improve my results or dishonestly improve or hurt the results of others.\n",
    "\n",
    "**Special Note**\n",
    "\n",
    "Submit your outputs in the form of a CSV file and a completed Jupyter notebook via Canvas, before the deadline. Your notebook must reproduce the outputs in your CSV file and should not give errors when executed with `Run All`. Please find more instructions on Canvas."
   ]
  },
  {
   "cell_type": "markdown",
   "metadata": {},
   "source": [
    "**Game Description**\n",
    "\n",
    "You are going to generate 5000 episodes of a simple game called *MiniPoker*. There are two players in the game. \n",
    "\n",
    "The rules are as follows.\n",
    "- Both players add an *ante* of size 1 to the stakes to begin the game.\n",
    "- Then the 'cards' are dealt. The players could only see their own hands.\n",
    "- The hands are assumed to be real numbers between 0 and 1. Player 1's hand is the realization $u$ of a standard uniform variable $U$ on the interval $[0,1]$. Player 2's hand is the realization $v$ of a standard uniform variable $V$ on the interval $[0,1]$. The variables $U$ and $V$ are independent.\n",
    "- After seeing her/his hand, player 1 can choose between *passing* and *betting*. If he passes, a *showdown* follows immediately. The players compare their hands in the showdown, and the player with the highest hand wins the pot. *Betting* means adding an extra amount 1 to the stakes.\n",
    "- After a bet by player 1, player 2 can decide to *fold* or to *call*. If she/he *folds*, she/he loses her/his *ante* of 1 to player 1. To *call*, player 2 must put an extra amount 1 in the pot. In that case, a *showdown* follows, and the player with the highest hand win the pot."
   ]
  },
  {
   "cell_type": "markdown",
   "metadata": {},
   "source": [
    "**Example Episode**\n",
    "- Both players 1 and 2 add an ante of size 1 to the stakes to begin the game.\n",
    "- Player 1's hand is 0.7, and Player 2's is 0.4\n",
    "- Player 1 choose betting, and adds an extra amount 1 to the stakes.\n",
    "- Player 2 decides to call, and put an extra amount in the pot.\n",
    "- A showndown follows. Player 1 wins the pot."
   ]
  },
  {
   "cell_type": "code",
   "execution_count": 161,
   "metadata": {},
   "outputs": [],
   "source": [
    "import numpy as np\n",
    "import csv"
   ]
  },
  {
   "cell_type": "markdown",
   "metadata": {},
   "source": [
    "## Part 1: Creating the Deck"
   ]
  },
  {
   "cell_type": "markdown",
   "metadata": {},
   "source": [
    "Your first task is to complete the showdown() method of our class *deck*. Set the attribute *winner* to be the index of the winning player: 1 if player 1 wins, 2 for player 2 wins, and np.nan for a tie."
   ]
  },
  {
   "cell_type": "code",
   "execution_count": 162,
   "metadata": {},
   "outputs": [],
   "source": [
    "class deck:\n",
    "    def __init__(self,stake=0):\n",
    "        # Generate the hands\n",
    "        self.P1=np.random.uniform()\n",
    "        self.P2=np.random.uniform()\n",
    "        self.winner = None\n",
    "    def showdown(self):\n",
    "        if self.winner is not None:\n",
    "            return self.winner\n",
    "        # Start Coding Here #\n",
    "        if self.P1 > self.P2:\n",
    "            self.winner=1\n",
    "        elif self.P2> self.P1:\n",
    "            self.winner=2\n",
    "        else:\n",
    "            self.winner= np.nan\n",
    "        # End Coding Here #\n",
    "        return self.winner"
   ]
  },
  {
   "cell_type": "markdown",
   "metadata": {},
   "source": [
    "## Part 2: Creating Player 1"
   ]
  },
  {
   "cell_type": "markdown",
   "metadata": {},
   "source": [
    "Your second task is to complete the choose() method of our class *player1*. Set the attribute *action* to be the decision made by player 1: string value \"pass\" if player 1 chooses to pass, string value \"bet\" if player 1 chooses to bet. When player 1 chooses to bet, make sure to use the stacking() method to add an extra amount 1 to the stakes.\n",
    "\n",
    "Player 1 chooses to bet if $u>0.9$ or $u<0.2$. Otherwise she/he chooses to pass. Note that the value of $u$ is stored in _hand_ attribute."
   ]
  },
  {
   "cell_type": "code",
   "execution_count": 163,
   "metadata": {},
   "outputs": [],
   "source": [
    "class player1:\n",
    "    def __init__(self,hand=None,stake=0):\n",
    "        self.hand=hand\n",
    "        self.stake = stake\n",
    "        self.action= None\n",
    "    def staking(self,add_amount=1):\n",
    "        self.stake=self.stake+add_amount\n",
    "    def reset(self):\n",
    "        self.hand=None\n",
    "        self.stake=1\n",
    "        self.action=None\n",
    "    def choose(self):\n",
    "        if self.hand is None:\n",
    "            self.action=None\n",
    "        elif self.action is not None:\n",
    "            return self.action\n",
    "        else:\n",
    "            # Start Coding Here #\n",
    "            if self.hand >0.9 or self.hand <0.2:\n",
    "                self.action=\"bet\"\n",
    "                self.staking(1)\n",
    "            else: \n",
    "                self.action=\"pass\"\n",
    "            # End Coding Here #\n",
    "            return self.action"
   ]
  },
  {
   "cell_type": "markdown",
   "metadata": {},
   "source": [
    "## Part 3: Creating Player 2"
   ]
  },
  {
   "cell_type": "markdown",
   "metadata": {},
   "source": [
    "Your third task is to complete the choose() method of our class *player2*. Set the attribute *action* to be the decision made by player 2: string value \"fold\" if player 2 chooses to fold, string value \"call\" if player 2 chooses to call. When player 1 passes, you do NOT need to change the attribute *action*; therefore, its values remain as the null value *None*. null value *None* if player 1 passes. When player 2 chooses to call, make sure to use the stacking() method to add an extra amount 1 to the stakes.\n",
    "\n",
    "Player 2 chooses to call if $v> 0.85$. Otherwise she/he chooses to fold. Note that the value of $v$ is stored in _hand_ attribute."
   ]
  },
  {
   "cell_type": "code",
   "execution_count": 164,
   "metadata": {},
   "outputs": [],
   "source": [
    "class player2:\n",
    "    def __init__(self,hand=None,stake=0):\n",
    "        self.hand=hand\n",
    "        self.stake = stake\n",
    "        self.action= None\n",
    "    def staking(self,add_amount=1):\n",
    "        self.stake=self.stake+add_amount\n",
    "    def reset(self):\n",
    "        self.hand=None\n",
    "        self.stake=1\n",
    "        self.action=None\n",
    "    def choose(self):\n",
    "        if self.hand is None:\n",
    "            self.action=None\n",
    "        elif self.action is not None:\n",
    "            return self.action\n",
    "        else:\n",
    "            # Start Coding Here #\n",
    "            if self.hand>0.85: #call \n",
    "                self.action=\"call\"\n",
    "                self.staking(1)\n",
    "            else: \n",
    "                self.action=\"fold\"\n",
    "            # End Coding Here #\n",
    "            return self.action"
   ]
  },
  {
   "cell_type": "markdown",
   "metadata": {},
   "source": [
    "## Part 4: Generate Episodes"
   ]
  },
  {
   "cell_type": "markdown",
   "metadata": {},
   "source": [
    "Generate 5000 independent Episodes. Set the seed number to be your student ID number. We assume that players can never go broke.\n",
    "\n",
    "Save the episode index, the winner and the players' hands, actions, and amounts of stake to a CSV file. The filename is your student ID. Upload this CSV file to Canvas. \n",
    "\n",
    "** Make sure to set the value of 'StudentID' to be your student ID **"
   ]
  },
  {
   "cell_type": "code",
   "execution_count": 165,
   "metadata": {
    "scrolled": true
   },
   "outputs": [],
   "source": [
    "p1=player1()\n",
    "p2=player2()\n",
    "NumEps=5000\n",
    "\n",
    "# IMPORTANT: Set the value of 'StudentID' to be your student ID.\n",
    "StudentID=12475440\n",
    "\n",
    "results=[]\n",
    "\n",
    "for i in range(NumEps):\n",
    "    np.random.seed(StudentID+i)\n",
    "    d=deck()\n",
    "    p1.reset()\n",
    "    p2.reset()\n",
    "    p1.hand=d.P1\n",
    "    p2.hand=d.P2\n",
    "    # Start Coding Here\n",
    "    if p1.choose() == \"pass\":\n",
    "        d.showdown()\n",
    "    else :\n",
    "        if p2.choose()== \"fold\":\n",
    "            d.winner=1 #wen player 2 folds, p1 is the winner \n",
    "        else: \n",
    "            d.showdown()\n",
    "#     results.append([StudentID,i,d.winner,p1.hand,p2.hand,p1.action,p2.action,p1.stake,p2.stake])\n",
    "#     print(results)\n",
    "# #End Coding Here\n",
    "    if ((d.winner in [1,2,np.nan])\n",
    "        and (p1.hand is not None) and (p2.hand is not None)\n",
    "        and (0<=p1.hand<=1) and (0<=p2.hand<=1) \n",
    "        and (p1.action in [\"pass\",\"bet\"]) and (p2.action in [\"call\",\"fold\",None])\n",
    "        and (p1.stake in [1,2]) and (p2.stake in [1,2])):\n",
    "        results.append([StudentID,i,d.winner,p1.hand,p2.hand,p1.action,p2.action,p1.stake,p2.stake])\n",
    "    else:\n",
    "        raise Exception('The values are not correct.')    \n",
    "    # Important: Check if you receive errors!\n",
    "    \n",
    "with open(str(StudentID)+'.csv', 'w', newline='') as f:\n",
    "    writer = csv.writer(f, delimiter =',')\n",
    "    writer.writerows(results)\n",
    "f.close()"
   ]
  }
 ],
 "metadata": {
  "kernelspec": {
   "display_name": "Python 3",
   "language": "python",
   "name": "python3"
  },
  "language_info": {
   "codemirror_mode": {
    "name": "ipython",
    "version": 3
   },
   "file_extension": ".py",
   "mimetype": "text/x-python",
   "name": "python",
   "nbconvert_exporter": "python",
   "pygments_lexer": "ipython3",
   "version": "3.8.5"
  }
 },
 "nbformat": 4,
 "nbformat_minor": 5
}
